{
  "nbformat": 4,
  "nbformat_minor": 0,
  "metadata": {
    "colab": {
      "provenance": [],
      "authorship_tag": "ABX9TyP+7RePiKeRPAvtti0zS/H5",
      "include_colab_link": true
    },
    "kernelspec": {
      "name": "python3",
      "display_name": "Python 3"
    },
    "language_info": {
      "name": "python"
    }
  },
  "cells": [
    {
      "cell_type": "markdown",
      "metadata": {
        "id": "view-in-github",
        "colab_type": "text"
      },
      "source": [
        "<a href=\"https://colab.research.google.com/github/puputhandayan/InputOutput/blob/main/inputoutput.ipynb\" target=\"_parent\"><img src=\"https://colab.research.google.com/assets/colab-badge.svg\" alt=\"Open In Colab\"/></a>"
      ]
    },
    {
      "cell_type": "code",
      "execution_count": 4,
      "metadata": {
        "colab": {
          "base_uri": "https://localhost:8080/"
        },
        "id": "ZLVr9Wr-leco",
        "outputId": "265c622e-0302-41d1-d81b-db1c7fe50763"
      },
      "outputs": [
        {
          "output_type": "stream",
          "name": "stdout",
          "text": [
            "hallo ! selamat datang Puput handayani, selamat belajar dasar pemprograman !\n"
          ]
        }
      ],
      "source": [
        "nama = 'Puput handayani'\n",
        "mata_kuliah = 'dasar pemprograman'\n",
        "\n",
        "print (f'hallo ! selamat datang {nama}, selamat belajar {mata_kuliah} !')"
      ]
    },
    {
      "cell_type": "code",
      "source": [
        "print (\"Program konversi suhu fahrenheit ke celcius\")\n",
        "print(\"==============================================\")\n",
        "\n",
        "fahrenheit  = eval (input('masukan suhu dalam fahrenheit: '))\n",
        "celcius = (5/9)*(fahrenheit-32)\n",
        "print('suhu dalam celcius adalah : %f' %(celcius))"
      ],
      "metadata": {
        "colab": {
          "base_uri": "https://localhost:8080/"
        },
        "id": "XliLfYJ0ng6u",
        "outputId": "b1507286-a083-47e6-d543-f3713d7451ae"
      },
      "execution_count": 6,
      "outputs": [
        {
          "output_type": "stream",
          "name": "stdout",
          "text": [
            "Program konversi suhu fahrenheit ke celcius\n",
            "==============================================\n",
            "masukan suhu dalam fahrenheit: 50\n",
            "suhu dalam celcius adalah : 10.000000\n"
          ]
        }
      ]
    }
  ]
}